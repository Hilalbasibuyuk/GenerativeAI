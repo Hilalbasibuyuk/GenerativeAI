{
 "cells": [
  {
   "cell_type": "code",
   "execution_count": 1,
   "id": "6b9aa17c",
   "metadata": {},
   "outputs": [],
   "source": [
    "import tensorflow_datasets as tfds\n",
    "import tensorflow as tf\n",
    "from tensorflow.keras.utils import to_categorical"
   ]
  },
  {
   "cell_type": "code",
   "execution_count": 2,
   "id": "bfc5eafc",
   "metadata": {},
   "outputs": [],
   "source": [
    "(train_ds, train_labels), (test_ds, test_labels) = tfds.load(\n",
    "    \"tf_flowers\",\n",
    "    split=[\"train[:70%]\", \"train[:30%]\"], ## Train test split\n",
    "    batch_size=-1,\n",
    "    as_supervised=True,  # Include labels\n",
    ")"
   ]
  },
  {
   "cell_type": "code",
   "execution_count": 3,
   "id": "9cc44f40",
   "metadata": {},
   "outputs": [],
   "source": [
    "train_ds = tf.image.resize(train_ds,(150,150)) # Resimleri yeniden boyutlandırma\n",
    "test_ds = tf.image.resize(test_ds,(150,150))"
   ]
  },
  {
   "cell_type": "code",
   "execution_count": 4,
   "id": "0f89513d",
   "metadata": {},
   "outputs": [],
   "source": [
    "train_labels = to_categorical(train_labels, num_classes = 5) # Etiketleri doğru formata çeviriyoruz\n",
    "test_labels = to_categorical(test_labels, num_classes = 5)"
   ]
  },
  {
   "cell_type": "code",
   "execution_count": 5,
   "id": "5e7a21f9",
   "metadata": {},
   "outputs": [],
   "source": [
    "from tensorflow.keras.applications.vgg16 import VGG16\n",
    "from tensorflow.keras.applications.vgg16 import preprocess_input"
   ]
  },
  {
   "cell_type": "code",
   "execution_count": 6,
   "id": "0349491e",
   "metadata": {},
   "outputs": [],
   "source": [
    "# VGG16 modelini yükleme\n",
    "base_model = VGG16(weights = \"imagenet\", include_top = False, input_shape = train_ds[0].shape)\n",
    "base_model.trainable = False"
   ]
  },
  {
   "cell_type": "code",
   "execution_count": 7,
   "id": "e071c359",
   "metadata": {},
   "outputs": [],
   "source": [
    "# Preprocessing input ( Giriş verilerini normalleştirmek)\n",
    "train_ds = preprocess_input(train_ds)\n",
    "test_ds = preprocess_input(test_ds)"
   ]
  },
  {
   "cell_type": "code",
   "execution_count": 8,
   "id": "861d41e5",
   "metadata": {},
   "outputs": [
    {
     "name": "stdout",
     "output_type": "stream",
     "text": [
      "Model: \"vgg16\"\n",
      "_________________________________________________________________\n",
      " Layer (type)                Output Shape              Param #   \n",
      "=================================================================\n",
      " input_1 (InputLayer)        [(None, 150, 150, 3)]     0         \n",
      "                                                                 \n",
      " block1_conv1 (Conv2D)       (None, 150, 150, 64)      1792      \n",
      "                                                                 \n",
      " block1_conv2 (Conv2D)       (None, 150, 150, 64)      36928     \n",
      "                                                                 \n",
      " block1_pool (MaxPooling2D)  (None, 75, 75, 64)        0         \n",
      "                                                                 \n",
      " block2_conv1 (Conv2D)       (None, 75, 75, 128)       73856     \n",
      "                                                                 \n",
      " block2_conv2 (Conv2D)       (None, 75, 75, 128)       147584    \n",
      "                                                                 \n",
      " block2_pool (MaxPooling2D)  (None, 37, 37, 128)       0         \n",
      "                                                                 \n",
      " block3_conv1 (Conv2D)       (None, 37, 37, 256)       295168    \n",
      "                                                                 \n",
      " block3_conv2 (Conv2D)       (None, 37, 37, 256)       590080    \n",
      "                                                                 \n",
      " block3_conv3 (Conv2D)       (None, 37, 37, 256)       590080    \n",
      "                                                                 \n",
      " block3_pool (MaxPooling2D)  (None, 18, 18, 256)       0         \n",
      "                                                                 \n",
      " block4_conv1 (Conv2D)       (None, 18, 18, 512)       1180160   \n",
      "                                                                 \n",
      " block4_conv2 (Conv2D)       (None, 18, 18, 512)       2359808   \n",
      "                                                                 \n",
      " block4_conv3 (Conv2D)       (None, 18, 18, 512)       2359808   \n",
      "                                                                 \n",
      " block4_pool (MaxPooling2D)  (None, 9, 9, 512)         0         \n",
      "                                                                 \n",
      " block5_conv1 (Conv2D)       (None, 9, 9, 512)         2359808   \n",
      "                                                                 \n",
      " block5_conv2 (Conv2D)       (None, 9, 9, 512)         2359808   \n",
      "                                                                 \n",
      " block5_conv3 (Conv2D)       (None, 9, 9, 512)         2359808   \n",
      "                                                                 \n",
      " block5_pool (MaxPooling2D)  (None, 4, 4, 512)         0         \n",
      "                                                                 \n",
      "=================================================================\n",
      "Total params: 14714688 (56.13 MB)\n",
      "Trainable params: 0 (0.00 Byte)\n",
      "Non-trainable params: 14714688 (56.13 MB)\n",
      "_________________________________________________________________\n"
     ]
    }
   ],
   "source": [
    "base_model.summary()"
   ]
  },
  {
   "cell_type": "code",
   "execution_count": 9,
   "id": "4318e2e8",
   "metadata": {},
   "outputs": [],
   "source": [
    "from tensorflow.keras import layers, models"
   ]
  },
  {
   "cell_type": "code",
   "execution_count": 10,
   "id": "a76a4471",
   "metadata": {},
   "outputs": [],
   "source": [
    "flatten_layers = layers.Flatten()\n",
    "dense_layer1 = layers.Dense(50, activation = \"relu\")\n",
    "dense_layer2 = layers.Dense(20, activation = \"relu\")\n",
    "prediction_layer = layers.Dense(5, activation = \"softmax\")"
   ]
  },
  {
   "cell_type": "code",
   "execution_count": 11,
   "id": "ebd3283c",
   "metadata": {},
   "outputs": [],
   "source": [
    "model = models.Sequential([\n",
    "    base_model, \n",
    "    flatten_layers,\n",
    "    dense_layer1,\n",
    "    dense_layer2,\n",
    "    prediction_layer\n",
    "])"
   ]
  },
  {
   "cell_type": "code",
   "execution_count": 12,
   "id": "4b65bd45",
   "metadata": {},
   "outputs": [],
   "source": [
    "# Modeli derleyip sığdıralım\n",
    "from tensorflow.keras.callbacks import EarlyStopping"
   ]
  },
  {
   "cell_type": "code",
   "execution_count": 13,
   "id": "03542cd8",
   "metadata": {},
   "outputs": [],
   "source": [
    "model.compile(optimizer = \"adam\", loss = \"categorical_crossentropy\", metrics = [\"accuracy\"])"
   ]
  },
  {
   "cell_type": "code",
   "execution_count": 14,
   "id": "01055dbf",
   "metadata": {},
   "outputs": [],
   "source": [
    "es = EarlyStopping(monitor = \"val_accuracy\", mode = \"max\", patience = 5, restore_best_weights = True)"
   ]
  },
  {
   "cell_type": "code",
   "execution_count": 15,
   "id": "7c2769ef",
   "metadata": {},
   "outputs": [
    {
     "name": "stdout",
     "output_type": "stream",
     "text": [
      "Epoch 1/50\n",
      "65/65 [==============================] - 75s 1s/step - loss: 1.7649 - accuracy: 0.5017 - val_loss: 1.2455 - val_accuracy: 0.5875\n",
      "Epoch 2/50\n",
      "65/65 [==============================] - 76s 1s/step - loss: 0.7309 - accuracy: 0.7567 - val_loss: 1.0866 - val_accuracy: 0.6654\n",
      "Epoch 3/50\n",
      "65/65 [==============================] - 71s 1s/step - loss: 0.4975 - accuracy: 0.8243 - val_loss: 1.1273 - val_accuracy: 0.6770\n",
      "Epoch 4/50\n",
      "65/65 [==============================] - 73s 1s/step - loss: 0.3410 - accuracy: 0.8745 - val_loss: 1.1671 - val_accuracy: 0.6946\n",
      "Epoch 5/50\n",
      "65/65 [==============================] - 73s 1s/step - loss: 0.2151 - accuracy: 0.9231 - val_loss: 1.3502 - val_accuracy: 0.6946\n",
      "Epoch 6/50\n",
      "65/65 [==============================] - 71s 1s/step - loss: 0.1529 - accuracy: 0.9479 - val_loss: 1.4449 - val_accuracy: 0.7004\n",
      "Epoch 7/50\n",
      "65/65 [==============================] - 77s 1s/step - loss: 0.1200 - accuracy: 0.9620 - val_loss: 1.4307 - val_accuracy: 0.6887\n",
      "Epoch 8/50\n",
      "65/65 [==============================] - 74s 1s/step - loss: 0.0872 - accuracy: 0.9776 - val_loss: 1.4421 - val_accuracy: 0.7160\n",
      "Epoch 9/50\n",
      "65/65 [==============================] - 74s 1s/step - loss: 0.0599 - accuracy: 0.9844 - val_loss: 1.5655 - val_accuracy: 0.7160\n",
      "Epoch 10/50\n",
      "65/65 [==============================] - 75s 1s/step - loss: 0.0464 - accuracy: 0.9854 - val_loss: 1.4627 - val_accuracy: 0.7160\n",
      "Epoch 11/50\n",
      "65/65 [==============================] - 71s 1s/step - loss: 0.0332 - accuracy: 0.9917 - val_loss: 1.5894 - val_accuracy: 0.7140\n",
      "Epoch 12/50\n",
      "65/65 [==============================] - 78s 1s/step - loss: 0.0244 - accuracy: 0.9951 - val_loss: 1.6643 - val_accuracy: 0.7121\n",
      "Epoch 13/50\n",
      "65/65 [==============================] - 78s 1s/step - loss: 0.0217 - accuracy: 0.9961 - val_loss: 1.7614 - val_accuracy: 0.7023\n"
     ]
    },
    {
     "data": {
      "text/plain": [
       "<keras.src.callbacks.History at 0x18ee728db10>"
      ]
     },
     "execution_count": 15,
     "metadata": {},
     "output_type": "execute_result"
    }
   ],
   "source": [
    "model.fit(train_ds, train_labels, epochs = 50, validation_split = 0.2, batch_size = 32, callbacks = [es])"
   ]
  },
  {
   "cell_type": "code",
   "execution_count": 16,
   "id": "6ce38cc1",
   "metadata": {},
   "outputs": [
    {
     "name": "stdout",
     "output_type": "stream",
     "text": [
      "35/35 [==============================] - 33s 942ms/step - loss: 0.0584 - accuracy: 0.9827\n"
     ]
    },
    {
     "data": {
      "text/plain": [
       "[0.05835213139653206, 0.982742965221405]"
      ]
     },
     "execution_count": 16,
     "metadata": {},
     "output_type": "execute_result"
    }
   ],
   "source": [
    "model.evaluate(test_ds, test_labels)"
   ]
  }
 ],
 "metadata": {
  "kernelspec": {
   "display_name": "Python 3 (ipykernel)",
   "language": "python",
   "name": "python3"
  },
  "language_info": {
   "codemirror_mode": {
    "name": "ipython",
    "version": 3
   },
   "file_extension": ".py",
   "mimetype": "text/x-python",
   "name": "python",
   "nbconvert_exporter": "python",
   "pygments_lexer": "ipython3",
   "version": "3.10.13"
  }
 },
 "nbformat": 4,
 "nbformat_minor": 5
}
