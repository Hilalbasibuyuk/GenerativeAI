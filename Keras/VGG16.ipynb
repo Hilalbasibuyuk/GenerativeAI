{
 "cells": [
  {
   "cell_type": "code",
   "execution_count": 3,
   "id": "23bdff10",
   "metadata": {},
   "outputs": [],
   "source": [
    "import os\n",
    "import numpy as np\n",
    "from keras.preprocessing.image import ImageDataGenerator\n",
    "from keras.applications.vgg16 import VGG16\n",
    "from keras.models import Sequential\n",
    "from keras.layers import Flatten, Dense\n",
    "from keras.optimizers import SGD"
   ]
  },
  {
   "cell_type": "code",
   "execution_count": 4,
   "id": "7f2ffa24",
   "metadata": {},
   "outputs": [],
   "source": [
    "train_data_dir = \"brain_tumor_dataset\"\n",
    "validation_data_dir = \"brain_tumor_dataset\""
   ]
  },
  {
   "cell_type": "code",
   "execution_count": 5,
   "id": "899c3304",
   "metadata": {},
   "outputs": [],
   "source": [
    "img_width, img_height = 224, 224\n",
    "batch_size = 32\n",
    "epochs = 10"
   ]
  },
  {
   "cell_type": "code",
   "execution_count": 6,
   "id": "aff718ca",
   "metadata": {},
   "outputs": [],
   "source": [
    "train_datagen = ImageDataGenerator(\n",
    "    rescale=1. / 255,\n",
    "    shear_range=0.2,\n",
    "    zoom_range=0.2,\n",
    "    horizontal_flip=True)"
   ]
  },
  {
   "cell_type": "code",
   "execution_count": 7,
   "id": "a86ece24",
   "metadata": {},
   "outputs": [],
   "source": [
    "test_datagen = ImageDataGenerator(rescale=1. / 255)"
   ]
  },
  {
   "cell_type": "code",
   "execution_count": 8,
   "id": "ec012817",
   "metadata": {},
   "outputs": [
    {
     "name": "stdout",
     "output_type": "stream",
     "text": [
      "Found 253 images belonging to 2 classes.\n"
     ]
    }
   ],
   "source": [
    "train_generator = train_datagen.flow_from_directory(\n",
    "    train_data_dir,\n",
    "    target_size=(img_width, img_height),\n",
    "    batch_size=batch_size,\n",
    "    class_mode='binary')"
   ]
  },
  {
   "cell_type": "code",
   "execution_count": 9,
   "id": "f074b28a",
   "metadata": {},
   "outputs": [
    {
     "name": "stdout",
     "output_type": "stream",
     "text": [
      "Found 253 images belonging to 2 classes.\n"
     ]
    }
   ],
   "source": [
    "validation_generator = test_datagen.flow_from_directory(\n",
    "    validation_data_dir,\n",
    "    target_size=(img_width, img_height),\n",
    "    batch_size=batch_size,\n",
    "    class_mode='binary')"
   ]
  },
  {
   "cell_type": "code",
   "execution_count": 10,
   "id": "a3b18711",
   "metadata": {},
   "outputs": [
    {
     "name": "stdout",
     "output_type": "stream",
     "text": [
      "Downloading data from https://storage.googleapis.com/tensorflow/keras-applications/vgg16/vgg16_weights_tf_dim_ordering_tf_kernels_notop.h5\n",
      "58889256/58889256 [==============================] - 20s 0us/step\n"
     ]
    }
   ],
   "source": [
    "model = Sequential()\n",
    "model.add(VGG16(include_top = False, weights = \"imagenet\", pooling = \"avg\"))\n",
    "model.add(Dense(1, activation = \"sigmoid\"))"
   ]
  },
  {
   "cell_type": "code",
   "execution_count": 11,
   "id": "9afffab3",
   "metadata": {},
   "outputs": [
    {
     "name": "stderr",
     "output_type": "stream",
     "text": [
      "WARNING:absl:`lr` is deprecated in Keras optimizer, please use `learning_rate` or use the legacy optimizer, e.g.,tf.keras.optimizers.legacy.SGD.\n"
     ]
    }
   ],
   "source": [
    "model.layers[0].trainable = False\n",
    "model.compile(optimizer=SGD(lr=0.001), loss='binary_crossentropy', metrics=['accuracy'])"
   ]
  },
  {
   "cell_type": "code",
   "execution_count": 12,
   "id": "adc5cb98",
   "metadata": {},
   "outputs": [
    {
     "name": "stderr",
     "output_type": "stream",
     "text": [
      "C:\\Users\\hilal\\AppData\\Local\\Temp\\ipykernel_5664\\3705724993.py:1: UserWarning: `Model.fit_generator` is deprecated and will be removed in a future version. Please use `Model.fit`, which supports generators.\n",
      "  model.fit_generator(\n"
     ]
    },
    {
     "name": "stdout",
     "output_type": "stream",
     "text": [
      "Epoch 1/10\n",
      "7/7 [==============================] - 86s 13s/step - loss: 0.7538 - accuracy: 0.5068 - val_loss: 0.6807 - val_accuracy: 0.5848\n",
      "Epoch 2/10\n",
      "7/7 [==============================] - 81s 12s/step - loss: 0.6602 - accuracy: 0.6380 - val_loss: 0.6652 - val_accuracy: 0.6161\n",
      "Epoch 3/10\n",
      "7/7 [==============================] - 83s 13s/step - loss: 0.6571 - accuracy: 0.6335 - val_loss: 0.6675 - val_accuracy: 0.6071\n",
      "Epoch 4/10\n",
      "7/7 [==============================] - 84s 13s/step - loss: 0.6588 - accuracy: 0.6244 - val_loss: 0.6650 - val_accuracy: 0.6071\n",
      "Epoch 5/10\n",
      "7/7 [==============================] - 82s 12s/step - loss: 0.6581 - accuracy: 0.6154 - val_loss: 0.6596 - val_accuracy: 0.6161\n",
      "Epoch 6/10\n",
      "7/7 [==============================] - 83s 13s/step - loss: 0.6619 - accuracy: 0.6154 - val_loss: 0.6581 - val_accuracy: 0.6161\n",
      "Epoch 7/10\n",
      "7/7 [==============================] - 84s 13s/step - loss: 0.6602 - accuracy: 0.6199 - val_loss: 0.6553 - val_accuracy: 0.6205\n",
      "Epoch 8/10\n",
      "7/7 [==============================] - 81s 12s/step - loss: 0.6572 - accuracy: 0.6154 - val_loss: 0.6579 - val_accuracy: 0.6071\n",
      "Epoch 9/10\n",
      "7/7 [==============================] - 83s 13s/step - loss: 0.6492 - accuracy: 0.6290 - val_loss: 0.6591 - val_accuracy: 0.5982\n",
      "Epoch 10/10\n",
      "7/7 [==============================] - 83s 13s/step - loss: 0.6589 - accuracy: 0.6018 - val_loss: 0.6520 - val_accuracy: 0.6071\n"
     ]
    },
    {
     "data": {
      "text/plain": [
       "<keras.src.callbacks.History at 0x26d850d3640>"
      ]
     },
     "execution_count": 12,
     "metadata": {},
     "output_type": "execute_result"
    }
   ],
   "source": [
    "model.fit_generator(\n",
    "    train_generator,\n",
    "    steps_per_epoch=train_generator.samples // batch_size,\n",
    "    epochs=epochs,\n",
    "    validation_data=validation_generator,\n",
    "    validation_steps=validation_generator.samples // batch_size)"
   ]
  },
  {
   "cell_type": "code",
   "execution_count": 13,
   "id": "2fd98f02",
   "metadata": {},
   "outputs": [
    {
     "name": "stderr",
     "output_type": "stream",
     "text": [
      "C:\\Users\\hilal\\AppData\\Local\\Temp\\ipykernel_5664\\2726794440.py:1: UserWarning: `Model.evaluate_generator` is deprecated and will be removed in a future version. Please use `Model.evaluate`, which supports generators.\n",
      "  scores = model.evaluate_generator(validation_generator, steps=validation_generator.samples // batch_size)\n"
     ]
    },
    {
     "name": "stdout",
     "output_type": "stream",
     "text": [
      "Doğruluk: 60.27%\n"
     ]
    }
   ],
   "source": [
    "scores = model.evaluate_generator(validation_generator, steps=validation_generator.samples // batch_size)\n",
    "print(\"Doğruluk: %.2f%%\" % (scores[1] * 100))"
   ]
  }
 ],
 "metadata": {
  "kernelspec": {
   "display_name": "Python 3 (ipykernel)",
   "language": "python",
   "name": "python3"
  },
  "language_info": {
   "codemirror_mode": {
    "name": "ipython",
    "version": 3
   },
   "file_extension": ".py",
   "mimetype": "text/x-python",
   "name": "python",
   "nbconvert_exporter": "python",
   "pygments_lexer": "ipython3",
   "version": "3.10.13"
  }
 },
 "nbformat": 4,
 "nbformat_minor": 5
}
