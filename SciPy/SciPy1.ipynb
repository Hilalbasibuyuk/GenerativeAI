{
 "cells": [
  {
   "cell_type": "code",
   "execution_count": 4,
   "id": "14c7e4a5",
   "metadata": {},
   "outputs": [],
   "source": [
    "from scipy import integrate"
   ]
  },
  {
   "cell_type": "code",
   "execution_count": 5,
   "id": "f17c0c51",
   "metadata": {},
   "outputs": [],
   "source": [
    "def f(x):\n",
    "    return x**2"
   ]
  },
  {
   "cell_type": "code",
   "execution_count": 6,
   "id": "620ad9f8",
   "metadata": {},
   "outputs": [],
   "source": [
    "result,error = integrate.quad(f,0,1) #0 ve 1 aralığında fonksiyonun integrali"
   ]
  },
  {
   "cell_type": "code",
   "execution_count": 7,
   "id": "47085016",
   "metadata": {},
   "outputs": [
    {
     "name": "stdout",
     "output_type": "stream",
     "text": [
      "İntegral değeri:  0.33333333333333337\n"
     ]
    }
   ],
   "source": [
    "print(\"İntegral değeri: \",result)"
   ]
  },
  {
   "cell_type": "code",
   "execution_count": 8,
   "id": "7aa1d971",
   "metadata": {},
   "outputs": [
    {
     "name": "stdout",
     "output_type": "stream",
     "text": [
      "Hata:  3.700743415417189e-15\n"
     ]
    }
   ],
   "source": [
    "print(\"Hata: \",error)"
   ]
  }
 ],
 "metadata": {
  "kernelspec": {
   "display_name": "Python 3 (ipykernel)",
   "language": "python",
   "name": "python3"
  },
  "language_info": {
   "codemirror_mode": {
    "name": "ipython",
    "version": 3
   },
   "file_extension": ".py",
   "mimetype": "text/x-python",
   "name": "python",
   "nbconvert_exporter": "python",
   "pygments_lexer": "ipython3",
   "version": "3.10.13"
  }
 },
 "nbformat": 4,
 "nbformat_minor": 5
}
