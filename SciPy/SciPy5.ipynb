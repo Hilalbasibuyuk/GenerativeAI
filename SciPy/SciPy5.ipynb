{
 "cells": [
  {
   "cell_type": "code",
   "execution_count": 1,
   "id": "dd74c956",
   "metadata": {},
   "outputs": [],
   "source": [
    "import numpy as np\n",
    "import matplotlib.pyplot as plt\n",
    "import scipy as sp"
   ]
  },
  {
   "cell_type": "code",
   "execution_count": 2,
   "id": "5be4fc94",
   "metadata": {},
   "outputs": [],
   "source": [
    "from scipy.optimize import minimize"
   ]
  },
  {
   "cell_type": "code",
   "execution_count": 3,
   "id": "aea5c648",
   "metadata": {},
   "outputs": [],
   "source": [
    "def f(x):\n",
    "    return (x-3)**2"
   ]
  },
  {
   "cell_type": "code",
   "execution_count": 5,
   "id": "be5128a0",
   "metadata": {},
   "outputs": [
    {
     "data": {
      "text/plain": [
       "  message: Optimization terminated successfully.\n",
       "  success: True\n",
       "   status: 0\n",
       "      fun: 5.551437397369767e-17\n",
       "        x: [ 3.000e+00]\n",
       "      nit: 2\n",
       "      jac: [-4.325e-13]\n",
       " hess_inv: [[ 5.000e-01]]\n",
       "     nfev: 6\n",
       "     njev: 3"
      ]
     },
     "execution_count": 5,
     "metadata": {},
     "output_type": "execute_result"
    }
   ],
   "source": [
    "result = minimize(f,2)\n",
    "result"
   ]
  },
  {
   "cell_type": "code",
   "execution_count": 9,
   "id": "eb7fd37c",
   "metadata": {},
   "outputs": [
    {
     "data": {
      "text/plain": [
       "array([2.99999999])"
      ]
     },
     "execution_count": 9,
     "metadata": {},
     "output_type": "execute_result"
    }
   ],
   "source": [
    "result.x"
   ]
  },
  {
   "cell_type": "code",
   "execution_count": 10,
   "id": "cd05cc71",
   "metadata": {},
   "outputs": [
    {
     "data": {
      "text/plain": [
       "2.999999992549203"
      ]
     },
     "execution_count": 10,
     "metadata": {},
     "output_type": "execute_result"
    }
   ],
   "source": [
    "result.x[0]"
   ]
  },
  {
   "cell_type": "code",
   "execution_count": 15,
   "id": "930443ba",
   "metadata": {},
   "outputs": [],
   "source": [
    "f = lambda x: (x[0]-1)**2 + (x[1]-2.5)**2\n",
    "cons = ({\"type\" : \"ineq\", \"fun\" : lambda x: x[0]- 2*x[1] +2},\n",
    "       {\"type\" : \"ineq\", \"fun\" : lambda x: -x[0]-2*x[1] +6},\n",
    "       {\"type\" : \"ineq\", \"fun\" : lambda x: -x[0]+ 2*x[1] +2}\n",
    "       )\n",
    "bnds = ((0,None),(0,None))\n",
    "result = minimize(f,(2,0),bounds = bnds, constraints = cons)"
   ]
  },
  {
   "cell_type": "code",
   "execution_count": 16,
   "id": "baece26a",
   "metadata": {},
   "outputs": [
    {
     "data": {
      "text/plain": [
       " message: Optimization terminated successfully\n",
       " success: True\n",
       "  status: 0\n",
       "     fun: 0.8000000011920985\n",
       "       x: [ 1.400e+00  1.700e+00]\n",
       "     nit: 3\n",
       "     jac: [ 8.000e-01 -1.600e+00]\n",
       "    nfev: 10\n",
       "    njev: 3"
      ]
     },
     "execution_count": 16,
     "metadata": {},
     "output_type": "execute_result"
    }
   ],
   "source": [
    "result"
   ]
  },
  {
   "cell_type": "code",
   "execution_count": 18,
   "id": "7b534d7d",
   "metadata": {},
   "outputs": [
    {
     "data": {
      "text/plain": [
       "array([1.4, 1.7])"
      ]
     },
     "execution_count": 18,
     "metadata": {},
     "output_type": "execute_result"
    }
   ],
   "source": [
    "result.x"
   ]
  },
  {
   "cell_type": "code",
   "execution_count": 19,
   "id": "d050357e",
   "metadata": {},
   "outputs": [],
   "source": [
    "minimize?"
   ]
  }
 ],
 "metadata": {
  "kernelspec": {
   "display_name": "Python 3 (ipykernel)",
   "language": "python",
   "name": "python3"
  },
  "language_info": {
   "codemirror_mode": {
    "name": "ipython",
    "version": 3
   },
   "file_extension": ".py",
   "mimetype": "text/x-python",
   "name": "python",
   "nbconvert_exporter": "python",
   "pygments_lexer": "ipython3",
   "version": "3.10.13"
  }
 },
 "nbformat": 4,
 "nbformat_minor": 5
}
