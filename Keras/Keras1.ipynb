{
 "cells": [
  {
   "cell_type": "code",
   "execution_count": 20,
   "id": "efbe8ec1",
   "metadata": {},
   "outputs": [],
   "source": [
    "import numpy as np\n",
    "import tensorflow as tf\n",
    "from tensorflow.keras.preprocessing import image\n",
    "from tensorflow.keras.applications import Xception\n",
    "from tensorflow.keras.applications.xception import preprocess_input, decode_predictions\n",
    "\n",
    "model = Xception(weights='imagenet')"
   ]
  },
  {
   "cell_type": "code",
   "execution_count": 21,
   "id": "c888804f",
   "metadata": {},
   "outputs": [],
   "source": [
    "img_path = 'indir.jpg'\n",
    "img = image.load_img(img_path, target_size=(299, 299))  # Xception modeli için gerekli olan boyut\n",
    "x = image.img_to_array(img)\n",
    "x = np.expand_dims(x, axis=0)\n",
    "x = preprocess_input(x)"
   ]
  },
  {
   "cell_type": "code",
   "execution_count": 22,
   "id": "0c67e940",
   "metadata": {},
   "outputs": [
    {
     "name": "stdout",
     "output_type": "stream",
     "text": [
      "1/1 [==============================] - 1s 1s/step\n",
      "Downloading data from https://storage.googleapis.com/download.tensorflow.org/data/imagenet_class_index.json\n",
      "35363/35363 [==============================] - 0s 1us/step\n",
      "Tahminler:\n",
      "1: street_sign (0.35)\n",
      "2: doormat (0.06)\n",
      "3: rubber_eraser (0.02)\n"
     ]
    }
   ],
   "source": [
    "# Görüntüyü Xception modeline gönderelim ve tahminler yapalım\n",
    "preds = model.predict(x)\n",
    "decoded_preds = decode_predictions(preds, top=3)[0]  # En yüksek üç tahmini alalım\n",
    "\n",
    "print(\"Tahminler:\")\n",
    "for i, (imagenet_id, label, score) in enumerate(decoded_preds):\n",
    "    print(f\"{i + 1}: {label} ({score:.2f})\") # sokak tabelası(street_sign), doormat(paspas),rubber_eraser(kauçuk silgi)"
   ]
  }
 ],
 "metadata": {
  "kernelspec": {
   "display_name": "Python 3 (ipykernel)",
   "language": "python",
   "name": "python3"
  },
  "language_info": {
   "codemirror_mode": {
    "name": "ipython",
    "version": 3
   },
   "file_extension": ".py",
   "mimetype": "text/x-python",
   "name": "python",
   "nbconvert_exporter": "python",
   "pygments_lexer": "ipython3",
   "version": "3.10.13"
  }
 },
 "nbformat": 4,
 "nbformat_minor": 5
}
