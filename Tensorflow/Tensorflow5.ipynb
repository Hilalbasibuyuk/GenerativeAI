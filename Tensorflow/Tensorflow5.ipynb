{
 "cells": [
  {
   "cell_type": "code",
   "execution_count": 6,
   "id": "c7da199a",
   "metadata": {},
   "outputs": [],
   "source": [
    "import tensorflow as tf\n",
    "from tensorflow.keras.datasets import mnist\n",
    "from tensorflow.keras.models import Sequential\n",
    "from tensorflow.keras.layers import Conv2D, MaxPooling2D, Flatten, Dense"
   ]
  },
  {
   "cell_type": "code",
   "execution_count": 7,
   "id": "464b08fd",
   "metadata": {},
   "outputs": [],
   "source": [
    "(x_train,y_train),(x_test,y_test) = mnist.load_data() # Veri seti yükleme"
   ]
  },
  {
   "cell_type": "code",
   "execution_count": 9,
   "id": "c6408232",
   "metadata": {},
   "outputs": [],
   "source": [
    "# Veri ön işleme\n",
    "x_train, x_test = x_train/255.0, x_test/255.0\n",
    "y_train = tf.keras.utils.to_categorical(y_train, num_classes = 10)\n",
    "y_test = tf.keras.utils.to_categorical(y_test, num_classes = 10)"
   ]
  },
  {
   "cell_type": "code",
   "execution_count": 11,
   "id": "46e05d84",
   "metadata": {},
   "outputs": [],
   "source": [
    "# Model oluşturma\n",
    "model = Sequential([\n",
    "    Conv2D(32,(3,3), activation = \"relu\", input_shape = (28,28,1)),\n",
    "    MaxPooling2D((2,2)),\n",
    "    Conv2D(64, (3, 3), activation='relu'),\n",
    "    MaxPooling2D((2,2)),\n",
    "    Flatten(),\n",
    "    Dense(128,activation = \"relu\"),\n",
    "    Dense(10, activation = \"softmax\")\n",
    "])"
   ]
  },
  {
   "cell_type": "code",
   "execution_count": 12,
   "id": "f7135d4b",
   "metadata": {},
   "outputs": [],
   "source": [
    "# Modeli derleme\n",
    "model.compile(optimizer= \"adam\", loss = \"categorical_crossentropy\", metrics = [\"accuracy\"])"
   ]
  },
  {
   "cell_type": "code",
   "execution_count": 14,
   "id": "1790947e",
   "metadata": {},
   "outputs": [
    {
     "name": "stdout",
     "output_type": "stream",
     "text": [
      "Epoch 1/5\n",
      "375/375 [==============================] - 17s 42ms/step - loss: 1.0444 - accuracy: 0.6691 - val_loss: 0.3689 - val_accuracy: 0.8904\n",
      "Epoch 2/5\n",
      "375/375 [==============================] - 14s 38ms/step - loss: 0.3332 - accuracy: 0.8994 - val_loss: 0.2438 - val_accuracy: 0.9300\n",
      "Epoch 3/5\n",
      "375/375 [==============================] - 14s 38ms/step - loss: 0.2265 - accuracy: 0.9319 - val_loss: 0.1680 - val_accuracy: 0.9528\n",
      "Epoch 4/5\n",
      "375/375 [==============================] - 14s 38ms/step - loss: 0.1615 - accuracy: 0.9516 - val_loss: 0.1324 - val_accuracy: 0.9607\n",
      "Epoch 5/5\n",
      "375/375 [==============================] - 14s 39ms/step - loss: 0.1263 - accuracy: 0.9623 - val_loss: 0.1147 - val_accuracy: 0.9654\n"
     ]
    },
    {
     "data": {
      "text/plain": [
       "<keras.src.callbacks.History at 0x215ca5ea260>"
      ]
     },
     "execution_count": 14,
     "metadata": {},
     "output_type": "execute_result"
    }
   ],
   "source": [
    "# Modeli eğitme\n",
    "model.fit(x_train.reshape(-1,28,28,1), y_train,epochs = 5, batch_size = 128, validation_split =.2)"
   ]
  },
  {
   "cell_type": "code",
   "execution_count": 15,
   "id": "2268ec29",
   "metadata": {},
   "outputs": [
    {
     "name": "stdout",
     "output_type": "stream",
     "text": [
      "313/313 - 2s - loss: 0.1055 - accuracy: 0.9678 - 2s/epoch - 5ms/step\n"
     ]
    },
    {
     "data": {
      "text/plain": [
       "0.9678000211715698"
      ]
     },
     "execution_count": 15,
     "metadata": {},
     "output_type": "execute_result"
    }
   ],
   "source": [
    "# Modeli değerlendirme\n",
    "test_loss, test_acc = model.evaluate(x_test.reshape(-1,28,28,1), y_test,verbose = 2)\n",
    "test_acc"
   ]
  }
 ],
 "metadata": {
  "kernelspec": {
   "display_name": "Python 3 (ipykernel)",
   "language": "python",
   "name": "python3"
  },
  "language_info": {
   "codemirror_mode": {
    "name": "ipython",
    "version": 3
   },
   "file_extension": ".py",
   "mimetype": "text/x-python",
   "name": "python",
   "nbconvert_exporter": "python",
   "pygments_lexer": "ipython3",
   "version": "3.10.13"
  }
 },
 "nbformat": 4,
 "nbformat_minor": 5
}
