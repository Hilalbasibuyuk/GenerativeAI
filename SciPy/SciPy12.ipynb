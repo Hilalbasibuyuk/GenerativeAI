{
 "cells": [
  {
   "cell_type": "code",
   "execution_count": 1,
   "id": "f7c842c2",
   "metadata": {},
   "outputs": [],
   "source": [
    "import numpy as np\n",
    "import matplotlib.pyplot as plt"
   ]
  },
  {
   "cell_type": "code",
   "execution_count": 2,
   "id": "c36aeafe",
   "metadata": {},
   "outputs": [
    {
     "data": {
      "text/plain": [
       "array([ 1.33333333, -0.66666667,  2.66666667, -1.33333333])"
      ]
     },
     "execution_count": 2,
     "metadata": {},
     "output_type": "execute_result"
    }
   ],
   "source": [
    "from scipy.linalg import solve_triangular\n",
    "a = np.array([[3,0,0,0],\n",
    "              [2,1,0,0],\n",
    "              [1,0,1,0],\n",
    "              [1,1,1,1]])\n",
    "b = np.array([4,2,4,2])\n",
    "x = solve_triangular(a,b,lower=True)\n",
    "x"
   ]
  },
  {
   "cell_type": "code",
   "execution_count": 3,
   "id": "a05107f5",
   "metadata": {},
   "outputs": [
    {
     "data": {
      "text/plain": [
       "array([ 1.66666667, -1.        , -2.66666667,  2.33333333])"
      ]
     },
     "execution_count": 3,
     "metadata": {},
     "output_type": "execute_result"
    }
   ],
   "source": [
    "from scipy.linalg import solve_toeplitz,toeplitz\n",
    "c = np.array([1,3,6,10])\n",
    "r = np.array([1,-1,-2,-3])\n",
    "b = np.array([1,2,2,5])\n",
    "x = solve_toeplitz((c,r),b)\n",
    "x"
   ]
  },
  {
   "cell_type": "markdown",
   "id": "bb646372",
   "metadata": {},
   "source": [
    "***Eigenvalue Problems***"
   ]
  },
  {
   "cell_type": "code",
   "execution_count": 4,
   "id": "70d35366",
   "metadata": {},
   "outputs": [],
   "source": [
    "from scipy.linalg import eigh_tridiagonal\n",
    "d = 3*np.ones(4)\n",
    "e = -1*np.ones(3)\n",
    "w,v = eigh_tridiagonal(d,e)"
   ]
  },
  {
   "cell_type": "code",
   "execution_count": 5,
   "id": "3883139e",
   "metadata": {},
   "outputs": [
    {
     "data": {
      "text/plain": [
       "array([1.38196601, 2.38196601, 3.61803399, 4.61803399])"
      ]
     },
     "execution_count": 5,
     "metadata": {},
     "output_type": "execute_result"
    }
   ],
   "source": [
    "w"
   ]
  },
  {
   "cell_type": "code",
   "execution_count": 6,
   "id": "c31362fe",
   "metadata": {},
   "outputs": [
    {
     "data": {
      "text/plain": [
       "array([0.37174803, 0.60150096, 0.60150096, 0.37174803])"
      ]
     },
     "execution_count": 6,
     "metadata": {},
     "output_type": "execute_result"
    }
   ],
   "source": [
    "v.T[0]"
   ]
  },
  {
   "cell_type": "code",
   "execution_count": 7,
   "id": "65c74529",
   "metadata": {},
   "outputs": [
    {
     "data": {
      "text/plain": [
       "array([ 0.60150096,  0.37174803, -0.37174803, -0.60150096])"
      ]
     },
     "execution_count": 7,
     "metadata": {},
     "output_type": "execute_result"
    }
   ],
   "source": [
    "v.T[1]"
   ]
  },
  {
   "cell_type": "markdown",
   "id": "a17bbced",
   "metadata": {},
   "source": [
    "### Special Matrices "
   ]
  },
  {
   "cell_type": "code",
   "execution_count": 8,
   "id": "7a4cd71a",
   "metadata": {},
   "outputs": [
    {
     "data": {
      "text/plain": [
       "array([[ 0,  3, 11, 44],\n",
       "       [ 3,  0,  8, 41],\n",
       "       [11,  8,  0, 33],\n",
       "       [44, 41, 33,  0]])"
      ]
     },
     "execution_count": 8,
     "metadata": {},
     "output_type": "execute_result"
    }
   ],
   "source": [
    "from scipy.linalg import fiedler\n",
    "fiedler([1,4,12,45])"
   ]
  },
  {
   "cell_type": "code",
   "execution_count": 10,
   "id": "4ffe8ab9",
   "metadata": {},
   "outputs": [
    {
     "data": {
      "text/plain": [
       "array([[1, 4, 5, 6, 0, 0],\n",
       "       [2, 1, 4, 5, 6, 0],\n",
       "       [3, 2, 1, 4, 5, 6],\n",
       "       [6, 3, 2, 1, 4, 5],\n",
       "       [0, 6, 3, 2, 1, 4],\n",
       "       [0, 0, 6, 3, 2, 1]])"
      ]
     },
     "execution_count": 10,
     "metadata": {},
     "output_type": "execute_result"
    }
   ],
   "source": [
    "from scipy.linalg import toeplitz\n",
    "toeplitz([1,2,3,6,0,0],[1,4,5,6,0,0])"
   ]
  },
  {
   "cell_type": "markdown",
   "id": "b94c8e12",
   "metadata": {},
   "source": [
    "## Decompositions"
   ]
  },
  {
   "cell_type": "code",
   "execution_count": 12,
   "id": "7769b04c",
   "metadata": {},
   "outputs": [
    {
     "data": {
      "text/plain": [
       "array([[2, 5, 7, 8],\n",
       "       [5, 2, 2, 8],\n",
       "       [7, 5, 6, 6],\n",
       "       [5, 4, 4, 8]])"
      ]
     },
     "execution_count": 12,
     "metadata": {},
     "output_type": "execute_result"
    }
   ],
   "source": [
    "from scipy.linalg import lu\n",
    "A = np.array([[2,5,7,8],[5,2,2,8],[7,5,6,6],[5,4,4,8]])\n",
    "A"
   ]
  },
  {
   "cell_type": "code",
   "execution_count": 13,
   "id": "f3937b4c",
   "metadata": {},
   "outputs": [],
   "source": [
    "p, l, u = lu(A)"
   ]
  },
  {
   "cell_type": "code",
   "execution_count": 14,
   "id": "e6ea821e",
   "metadata": {},
   "outputs": [
    {
     "data": {
      "text/plain": [
       "array([[0., 1., 0., 0.],\n",
       "       [0., 0., 0., 1.],\n",
       "       [1., 0., 0., 0.],\n",
       "       [0., 0., 1., 0.]])"
      ]
     },
     "execution_count": 14,
     "metadata": {},
     "output_type": "execute_result"
    }
   ],
   "source": [
    "p"
   ]
  },
  {
   "cell_type": "code",
   "execution_count": 15,
   "id": "bf4132ea",
   "metadata": {},
   "outputs": [
    {
     "data": {
      "text/plain": [
       "array([[ 1.        ,  0.        ,  0.        ,  0.        ],\n",
       "       [ 0.28571429,  1.        ,  0.        ,  0.        ],\n",
       "       [ 0.71428571,  0.12      ,  1.        ,  0.        ],\n",
       "       [ 0.71428571, -0.44      , -0.04347826,  1.        ]])"
      ]
     },
     "execution_count": 15,
     "metadata": {},
     "output_type": "execute_result"
    }
   ],
   "source": [
    "l"
   ]
  },
  {
   "cell_type": "code",
   "execution_count": 16,
   "id": "8fb16a2d",
   "metadata": {},
   "outputs": [
    {
     "data": {
      "text/plain": [
       "array([[ 7.        ,  5.        ,  6.        ,  6.        ],\n",
       "       [ 0.        ,  3.57142857,  5.28571429,  6.28571429],\n",
       "       [ 0.        ,  0.        , -0.92      ,  2.96      ],\n",
       "       [ 0.        ,  0.        ,  0.        ,  6.60869565]])"
      ]
     },
     "execution_count": 16,
     "metadata": {},
     "output_type": "execute_result"
    }
   ],
   "source": [
    "u"
   ]
  }
 ],
 "metadata": {
  "kernelspec": {
   "display_name": "Python 3 (ipykernel)",
   "language": "python",
   "name": "python3"
  },
  "language_info": {
   "codemirror_mode": {
    "name": "ipython",
    "version": 3
   },
   "file_extension": ".py",
   "mimetype": "text/x-python",
   "name": "python",
   "nbconvert_exporter": "python",
   "pygments_lexer": "ipython3",
   "version": "3.10.13"
  }
 },
 "nbformat": 4,
 "nbformat_minor": 5
}
